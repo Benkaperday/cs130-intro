{
  "cells": [
    {
      "cell_type": "markdown",
      "metadata": {
        "id": "view-in-github",
        "colab_type": "text"
      },
      "source": [
        "<a href=\"https://colab.research.google.com/github/Benkaperday/cs130-intro/blob/main/Another_copy_of_Curve_fitting_template.ipynb\" target=\"_parent\"><img src=\"https://colab.research.google.com/assets/colab-badge.svg\" alt=\"Open In Colab\"/></a>"
      ]
    },
    {
      "cell_type": "markdown",
      "metadata": {
        "id": "834t49zymVdO"
      },
      "source": [
        "# Project 3 (Make your own copy of this file)\n",
        "## Curve fitting: Path of a cannonball\n",
        "---\n",
        "First, turn off AI by clicking the gear in the upper right and selecting 'AI assistance.'  Make sure that 'consent to use generative AI features' is turned off. This will make sure that you are using the correct methods of solution and that you are getting the practice you need to be successful on exams.\n",
        "\n",
        "Start by collecting data from here:\n",
        "https://phet.colorado.edu/sims/html/projectile-motion/latest/projectile-motion_all.html\n",
        "For each point, record the time, height, and range in a csv file in Excel or your preferred spreadsheet program. Save your work as cannon.csv"
      ]
    },
    {
      "cell_type": "code",
      "execution_count": 15,
      "metadata": {
        "id": "3wtNHabcbX8N"
      },
      "outputs": [],
      "source": [
        "# Run this first.\n",
        "import numpy as np\n",
        "import matplotlib.pyplot as plt\n",
        "from scipy.stats import norm\n",
        "import scipy\n",
        "from sklearn.model_selection import train_test_split\n"
      ]
    },
    {
      "cell_type": "markdown",
      "source": [
        "We will start by defining our models. I suggest that you have your 'Intro to line fitting' colab document open for reference.\n",
        "\n",
        "- complete the definition of a linear model. It should have both a slope and a y-intercept.\n",
        "\n",
        "- write a second function called quadratic(x, a, b, c) that returns a quadratic function of the form $ax^2 + bx + c$.  Hint: to raise a number to a power in python, use asterisks:    x**2."
      ],
      "metadata": {
        "id": "aMfUDGhbnkME"
      }
    },
    {
      "cell_type": "code",
      "execution_count": 16,
      "metadata": {
        "id": "8ciej3_pbX8T"
      },
      "outputs": [],
      "source": [
        "def linear(x, m, b):\n",
        "    return m*x + b\n",
        "def quadratic(x, a, b, c):\n",
        "    return a*(x**2) + b*x + c"
      ]
    },
    {
      "cell_type": "markdown",
      "source": [
        "Obtain the data by uploading your .csv file into the folder at left. Use the upload button to find the right document.Then run the following code."
      ],
      "metadata": {
        "id": "4MYalsj8pNBD"
      }
    },
    {
      "cell_type": "code",
      "source": [
        "data = np.loadtxt(\"cannon.csv\", delimiter=\",\", dtype=str)\n",
        "display(data)"
      ],
      "metadata": {
        "id": "CU2dZCrYpWsj",
        "colab": {
          "base_uri": "https://localhost:8080/",
          "height": 225
        },
        "outputId": "8a5ae3b5-3fcf-4124-c620-598b880e4009"
      },
      "execution_count": 17,
      "outputs": [
        {
          "output_type": "display_data",
          "data": {
            "text/plain": [
              "array([['\\ufefftime', 'range ', 'height'],\n",
              "       ['0.3', '0.94', '4.88'],\n",
              "       ['0.5', '1.56', '7.64'],\n",
              "       ['0.7', '2.19', '10.01'],\n",
              "       ['0.9', '2.81', '11.98'],\n",
              "       ['1.1', '3.44', '13.56'],\n",
              "       ['1.81', '5.65', '16.02'],\n",
              "       ['2.1', '6.56', '15.59'],\n",
              "       ['2.3', '7.19', '14.82'],\n",
              "       ['2.5', '7.81', '13.66'],\n",
              "       ['2.9', '9.06', '10.16'],\n",
              "       ['3.1', '9.69', '7.82']], dtype='<U6')"
            ]
          },
          "metadata": {}
        }
      ]
    },
    {
      "cell_type": "markdown",
      "source": [
        "Create 3 arrays based on this data called t, x, and h. Each will only be one-dimensional, like a list. The array called t should store only the time values in the data, and it should not include the text. I suggest that you define it using array slicing - start at the first actual number (row 1, column 0) and slice the array so that you are keeping only column 0. After slicing, convert the array to be floats instead of strings using .astype(np.float32).\n",
        "\n",
        "Similarly, for x, slice the array to keep only column 1. Again, don't include element 0 since that is text, not a number.\n",
        "\n",
        "For h, slice the array to keep only column 2, and exclude element 0."
      ],
      "metadata": {
        "id": "SwYNaFNareLa"
      }
    },
    {
      "cell_type": "code",
      "source": [
        "t = data[1:, 0].astype(np.float32) # I did this one for you.\n",
        "x = data[1:, 1].astype(np.float32)\n",
        "h = data[1:, 2].astype(np.float32)"
      ],
      "metadata": {
        "id": "KgYlqU8JrNki"
      },
      "execution_count": 18,
      "outputs": []
    },
    {
      "cell_type": "markdown",
      "source": [
        "With the code below, check that you have included only numbers, not the text at the top of each column."
      ],
      "metadata": {
        "id": "-18LZEjstjsI"
      }
    },
    {
      "cell_type": "code",
      "source": [
        "print(\"t = \", t)\n",
        "print(\"x = \", x)\n",
        "print(\"h = \", h)"
      ],
      "metadata": {
        "id": "KoFG1oXttnkI",
        "colab": {
          "base_uri": "https://localhost:8080/"
        },
        "outputId": "c85b4903-24e9-4f39-c315-2472d8e130ea"
      },
      "execution_count": 19,
      "outputs": [
        {
          "output_type": "stream",
          "name": "stdout",
          "text": [
            "t =  [0.3  0.5  0.7  0.9  1.1  1.81 2.1  2.3  2.5  2.9  3.1 ]\n",
            "x =  [0.94 1.56 2.19 2.81 3.44 5.65 6.56 7.19 7.81 9.06 9.69]\n",
            "h =  [ 4.88  7.64 10.01 11.98 13.56 16.02 15.59 14.82 13.66 10.16  7.82]\n"
          ]
        }
      ]
    },
    {
      "cell_type": "markdown",
      "metadata": {
        "id": "XJdAX7USbX8O"
      },
      "source": [
        "## Fitting\n",
        "\n",
        "Check the scatterplot:\n"
      ]
    },
    {
      "cell_type": "code",
      "execution_count": 20,
      "metadata": {
        "id": "KZP1sDypbX8P",
        "colab": {
          "base_uri": "https://localhost:8080/",
          "height": 467
        },
        "outputId": "2769e1ee-7d97-4e9d-faea-481a9b5d5cd2"
      },
      "outputs": [
        {
          "output_type": "execute_result",
          "data": {
            "text/plain": [
              "Text(0, 0.5, 'x (meters)')"
            ]
          },
          "metadata": {},
          "execution_count": 20
        },
        {
          "output_type": "display_data",
          "data": {
            "text/plain": [
              "<Figure size 640x480 with 1 Axes>"
            ],
            "image/png": "[encoded data removed]"
          },
          "metadata": {}
        }
      ],
      "source": [
        "plt.figure()\n",
        "plt.scatter(t, x)\n",
        "plt.xlabel(\"time (s)\")\n",
        "plt.ylabel(\"x (meters)\")"
      ]
    },
    {
      "cell_type": "markdown",
      "metadata": {
        "id": "CzQP7gtMbX8S"
      },
      "source": [
        "Let's see how we could fit it to a line and extract the best fit parameters.  For fitting in this class, we will start with the \"optimize\" method from the scipy."
      ]
    },
    {
      "cell_type": "code",
      "execution_count": 21,
      "metadata": {
        "id": "mUYT40R1bX8U",
        "colab": {
          "base_uri": "https://localhost:8080/"
        },
        "outputId": "c92eff91-796c-4508-d40d-1d187431e446"
      },
      "outputs": [
        {
          "output_type": "stream",
          "name": "stdout",
          "text": [
            "x = 3.125 t + 0.000\n"
          ]
        }
      ],
      "source": [
        "params, params_covariance = scipy.optimize.curve_fit(linear, t, x)\n",
        "slope = params[0]\n",
        "intercept = params[1]\n",
        "\n",
        "print('x = {:.3f} t + {:.3f}'.format(slope,intercept)) #equation for a line is y = m x + b\n"
      ]
    },
    {
      "cell_type": "markdown",
      "metadata": {
        "id": "MFopSF2dbX8U"
      },
      "source": [
        "We got the best-fit parameters and put them into the equation for a line.  Let's plot the resulting best fit line on the data and see how it looks."
      ]
    },
    {
      "cell_type": "code",
      "execution_count": 22,
      "metadata": {
        "id": "Rmq_UCwvbX8U",
        "colab": {
          "base_uri": "https://localhost:8080/",
          "height": 466
        },
        "outputId": "a45961fe-0f95-4a33-d13a-5016e6b48364"
      },
      "outputs": [
        {
          "output_type": "execute_result",
          "data": {
            "text/plain": [
              "Text(0, 0.5, 'distance in x direction')"
            ]
          },
          "metadata": {},
          "execution_count": 22
        },
        {
          "output_type": "display_data",
          "data": {
            "text/plain": [
              "<Figure size 640x480 with 1 Axes>"
            ],
            "image/png": "[encoded data removed]"
          },
          "metadata": {}
        }
      ],
      "source": [
        "plt.figure()\n",
        "plt.scatter(t, x, label='Data')\n",
        "t2 = np.linspace(0, 3.5, 100) #want more points - this gives us 100 points\n",
        "plt.plot(t2, linear(t2, slope, intercept),label='Fitted function')\n",
        "plt.legend(loc='best')\n",
        "plt.xlabel(\"time (s)\")\n",
        "plt.ylabel(\"distance in x direction\")"
      ]
    },
    {
      "cell_type": "markdown",
      "metadata": {
        "id": "zaqvrzJVbX8V"
      },
      "source": [
        "## EXERCISE:  \n",
        "In the space below, use the quadratic function that you already defined to fit time and height (instead of range). There will be 3 parameters that come out: a, b, and c. Print out the equation of the curve using .format() as in the sample code provided above. The output should have this form (your numbers will differ):  \n",
        "\n",
        "h = -4.911 t^2 + 17.734 t + 0.001"
      ]
    },
    {
      "cell_type": "code",
      "execution_count": 23,
      "metadata": {
        "id": "PSbyh9ntbX8V",
        "colab": {
          "base_uri": "https://localhost:8080/"
        },
        "outputId": "01e00495-6486-4e64-d04d-094c1bd6bb9e"
      },
      "outputs": [
        {
          "output_type": "stream",
          "name": "stdout",
          "text": [
            "h = -4.902 t^2 + 17.715t + 0.008 \n"
          ]
        }
      ],
      "source": [
        "params, params_covariance = scipy.optimize.curve_fit(quadratic, t, h)\n",
        "a = params[0]\n",
        "b = params[1]\n",
        "c = params[2]\n",
        "\n",
        "print('h = {:.3f} t^2 + {:.3f}t + {:.3f} '.format(a, b, c,))#your code here"
      ]
    },
    {
      "cell_type": "markdown",
      "source": [
        "Now plot the fitted curve. You'll need to change the code to use the quadratic function and graph height vs. time instead of x versus time."
      ],
      "metadata": {
        "id": "dBYakIofxBI2"
      }
    },
    {
      "cell_type": "code",
      "source": [
        "#TODO: modify this code to be appropriate for a quadratic fit.\n",
        "plt.figure()\n",
        "plt.scatter(t,h, label='Data')   #change this\n",
        "t2 = np.linspace(0, 3.5, 100)\n",
        "plt.plot(t2, quadratic(t2, a,b,c),label='Fitted function') #change this\n",
        "plt.legend(loc='best')\n",
        "plt.xlabel(\"time (s)\")\n",
        "plt.ylabel(\"distance in x direction\") #change this"
      ],
      "metadata": {
        "id": "LSJHPjYihtk-",
        "colab": {
          "base_uri": "https://localhost:8080/",
          "height": 466
        },
        "outputId": "03c33d85-1f7b-4d18-97b3-69791a69a24a"
      },
      "execution_count": 24,
      "outputs": [
        {
          "output_type": "execute_result",
          "data": {
            "text/plain": [
              "Text(0, 0.5, 'distance in x direction')"
            ]
          },
          "metadata": {},
          "execution_count": 24
        },
        {
          "output_type": "display_data",
          "data": {
            "text/plain": [
              "<Figure size 640x480 with 1 Axes>"
            ],
            "image/png": "[encoded data removed]"
          },
          "metadata": {}
        }
      ]
    },
    {
      "cell_type": "markdown",
      "source": [
        "## EXERCISE 2:  \n",
        "Go back to the phet simulation, and instead of a cannonball, use the piano option. Turn on 'air resistance.' This should produce a note that says \"Drag Coefficient: 1.20.\" This indicates that a piano experiences a lot of 'drag' from air resistance as it flies through the air. I expect that this will change the shape of its path, and therefore the quadratic fit won't be quite as perfect as before.\n",
        "Repeat the data collection. This time, use piano as your filename and make sure it saves as a csv file again. Without overwriting any of your previous work, redo your analysis with both the x and h fits. Put your code below.\n",
        "\n",
        "This time, rename your t, x, and h variables to be called t_p, x_p, and h_p.  Rename your fit parameters similarly. For example, instead of slope, use slope_p. Instead of b, use b_p."
      ],
      "metadata": {
        "id": "nrPOc8UmhKtW"
      }
    },
    {
      "cell_type": "code",
      "source": [
        "data = np.loadtxt(\"piano.csv\", delimiter=\",\", dtype=str)\n",
        "display(data)"
      ],
      "metadata": {
        "id": "MGo87lV-zb9M",
        "colab": {
          "base_uri": "https://localhost:8080/",
          "height": 208
        },
        "outputId": "411008cf-9571-473e-bf2e-6770a3a6e443"
      },
      "execution_count": 25,
      "outputs": [
        {
          "output_type": "display_data",
          "data": {
            "text/plain": [
              "array([['\\ufefftime', 'range', 'height'],\n",
              "       ['0.3', '0.92', '4.79'],\n",
              "       ['0.5', '1.52', '7.41'],\n",
              "       ['0.7', '2.11', '9.6'],\n",
              "       ['0.9', '2.69', '11.36'],\n",
              "       ['1.68', '4.9', '14.38'],\n",
              "       ['2.2', '6.34', '13.07'],\n",
              "       ['2.4', '6.89', '11.86'],\n",
              "       ['2.6', '7.43', '10.28'],\n",
              "       ['2.8', '7.97', '8.33'],\n",
              "       ['3.1', '8.76', '4.74']], dtype='<U6')"
            ]
          },
          "metadata": {}
        }
      ]
    },
    {
      "cell_type": "code",
      "source": [
        "t_p = data[1:, 0].astype(np.float32)\n",
        "x_p = data[1:, 1].astype(np.float32)\n",
        "h_p = data[1:, 2].astype(np.float32)"
      ],
      "metadata": {
        "id": "GrualVWwg4Yv"
      },
      "execution_count": 26,
      "outputs": []
    },
    {
      "cell_type": "code",
      "source": [
        "print(\"t_p = \", t_p)\n",
        "print(\"x_p = \", x_p)\n",
        "print(\"h_p = \", h_p)"
      ],
      "metadata": {
        "colab": {
          "base_uri": "https://localhost:8080/"
        },
        "id": "XXGs_hyrhnMG",
        "outputId": "bed29ca0-799b-4d39-ec8e-b53e93590745"
      },
      "execution_count": 27,
      "outputs": [
        {
          "output_type": "stream",
          "name": "stdout",
          "text": [
            "t_p =  [0.3  0.5  0.7  0.9  1.68 2.2  2.4  2.6  2.8  3.1 ]\n",
            "x_p =  [0.92 1.52 2.11 2.69 4.9  6.34 6.89 7.43 7.97 8.76]\n",
            "h_p =  [ 4.79  7.41  9.6  11.36 14.38 13.07 11.86 10.28  8.33  4.74]\n"
          ]
        }
      ]
    },
    {
      "cell_type": "code",
      "source": [
        "params, params_covariance = scipy.optimize.curve_fit(quadratic, t_p, h_p)\n",
        "a_p = params[0]\n",
        "b_p = params[1]\n",
        "c_p = params[2]\n",
        "\n",
        "print('h = {:.3f} t^2 + {:.3f}t + {:.3f} '.format(a_p, b_p, c_p,))"
      ],
      "metadata": {
        "colab": {
          "base_uri": "https://localhost:8080/"
        },
        "id": "9emavdgvh3sO",
        "outputId": "2d4d545b-4eb6-4aed-c0be-3a646494c57f"
      },
      "execution_count": 28,
      "outputs": [
        {
          "output_type": "stream",
          "name": "stdout",
          "text": [
            "h = -4.894 t^2 + 16.562t + 0.348 \n"
          ]
        }
      ]
    },
    {
      "cell_type": "code",
      "source": [
        "#TODO: modify this code to be appropriate for a quadratic fit.\n",
        "plt.figure()\n",
        "plt.scatter(t_p,h_p, label='Data')   #change this\n",
        "t2 = np.linspace(0, 3.5, 100)\n",
        "plt.plot(t2, quadratic(t2, a_p,b_p,c_p),label='Fitted function') #change this\n",
        "plt.legend(loc='best')\n",
        "plt.xlabel(\"time (s)\")\n",
        "plt.ylabel(\"distance in x direction\") #change this"
      ],
      "metadata": {
        "id": "J0k6B5dOiD-Q",
        "outputId": "7855cc65-14ca-4d57-d855-16ce9a3738b8",
        "colab": {
          "base_uri": "https://localhost:8080/",
          "height": 466
        }
      },
      "execution_count": 29,
      "outputs": [
        {
          "output_type": "execute_result",
          "data": {
            "text/plain": [
              "Text(0, 0.5, 'distance in x direction')"
            ]
          },
          "metadata": {},
          "execution_count": 29
        },
        {
          "output_type": "display_data",
          "data": {
            "text/plain": [
              "<Figure size 640x480 with 1 Axes>"
            ],
            "image/png": "[encoded data removed]"
          },
          "metadata": {}
        }
      ]
    },
    {
      "cell_type": "markdown",
      "source": [
        "After completing your analysis, please comment on how well the quadratic shape fits the height data, and how well the linear fit matches the x data."
      ],
      "metadata": {
        "id": "1z9-Kh8KzWQc"
      }
    },
    {
      "cell_type": "markdown",
      "source": [
        "## EXERCISE 3:  Error analysis\n",
        "\n",
        "Write a function called error() that takes in two lists of data, called fitted_x and actual_x, and calculates the error between the fitted values and actual values. This function will need to do the following things, in order:\n",
        "\n",
        "- subtract actual_x from fitted_x\n",
        "- square the result of the previous step. Remember to use double asterisks. The purpose of squaring is to remove any negatives from the subtraction.\n",
        "- take the average of the result of the previous setp. Use np.average()\n",
        "- return the square root of the result of the previous step. Use np.sqrt()\n",
        "\n",
        "This will produce a single number that will reflect the degree of difference between the actual data and the fitted line or curve, averaging over all the data points."
      ],
      "metadata": {
        "id": "r1VJlHJi1y9D"
      }
    },
    {
      "cell_type": "code",
      "source": [
        "\n",
        "def error(fitted_x, actual_x):\n",
        "  diff = actual_x-fitted_x\n",
        "  diff = diff**2\n",
        "  avg_diff = np.average(diff)\n",
        "\n",
        "\n",
        "  #your stuff goes here\n",
        "  return np.sqrt(diff)\n",
        "\n",
        "print(error(np.array([4,6]), np.array([2.9, 3])))\n",
        "#check that your answer comes out to be 2.2594247055390007"
      ],
      "metadata": {
        "id": "4tv6v7Ci2y3a",
        "colab": {
          "base_uri": "https://localhost:8080/"
        },
        "outputId": "7f008514-1b44-4cff-ef7c-a6c100936746"
      },
      "execution_count": 33,
      "outputs": [
        {
          "output_type": "stream",
          "name": "stdout",
          "text": [
            "2.2594247055390007\n"
          ]
        }
      ]
    },
    {
      "cell_type": "markdown",
      "source": [
        "Use your error function to compare the errors in the fits for the x data between the cannonball and the piano. Hopefully the piano data and fit parameters have different variable names."
      ],
      "metadata": {
        "id": "EnfX7L2C3aoq"
      }
    },
    {
      "cell_type": "code",
      "source": [
        "params, params_covariance = scipy.optimize.curve_fit(linear, t_p, x_p)\n",
        "slope_p = params[0]\n",
        "intercept_p = params[1]\n",
        "\n"
      ],
      "metadata": {
        "id": "gASe07V11W2X"
      },
      "execution_count": 36,
      "outputs": []
    },
    {
      "cell_type": "code",
      "source": [
        "# Piano Error (x) - below is some sample code to get you started.\n",
        "\n",
        "\n",
        "x_p_fitted = linear(x_p, slope_p, intercept_p) #sample code for piano\n",
        "#x_actual is just x_p so you don't need to define it\n",
        "error_piano = error( x_p_fitted,x_p)#you fill in this part with appropriate inputs for the piano\n",
        "print(error_piano)\n",
        "\n",
        "# Cannonball error (x) - your code here\n",
        "x_fitted = linear(x, slope, intercept) #sample code for piano\n",
        "#x_actual is just x_p so you don't need to define it\n",
        "error_cannon = error( x_fitted,x)#you fill in this part with appropriate inputs for the piano\n",
        "print(error_cannon)"
      ],
      "metadata": {
        "id": "LR4h8U7B4LnR",
        "colab": {
          "base_uri": "https://localhost:8080/"
        },
        "outputId": "67c5fd8f-9e86-4c66-ee3d-e74168d09939"
      },
      "execution_count": 42,
      "outputs": [
        {
          "output_type": "stream",
          "name": "stdout",
          "text": [
            "10.3503065\n",
            "12.6743555\n"
          ]
        }
      ]
    },
    {
      "cell_type": "code",
      "source": [
        "from google.colab import drive\n",
        "drive.mount('/content/drive')"
      ],
      "metadata": {
        "id": "mBuJxjOqcNlA"
      },
      "execution_count": null,
      "outputs": []
    },
    {
      "cell_type": "markdown",
      "source": [
        "Use your error function to compare the errors in the fits for the height data between the cannonball and the piano."
      ],
      "metadata": {
        "id": "kFZhC-HI5W__"
      }
    },
    {
      "cell_type": "code",
      "source": [
        "# now do the height data. Remember that these are both quadratic fits.\n",
        "\n",
        "# Piano Error (h)\n",
        "\n",
        "\n",
        "# Cannonball error (h)"
      ],
      "metadata": {
        "id": "V_7RMxcL5Xh4"
      },
      "execution_count": null,
      "outputs": []
    },
    {
      "cell_type": "markdown",
      "source": [
        "Which tends to have a larger error, the piano or the cannonball?  "
      ],
      "metadata": {
        "id": "jMY_rcIJ5LH5"
      }
    }
  ],
  "metadata": {
    "kernelspec": {
      "display_name": "Python 3",
      "name": "python3"
    },
    "language_info": {
      "codemirror_mode": {
        "name": "ipython",
        "version": 3
      },
      "file_extension": ".py",
      "mimetype": "text/x-python",
      "name": "python",
      "nbconvert_exporter": "python",
      "pygments_lexer": "ipython3",
      "version": "3.10.4"
    },
    "colab": {
      "provenance": [],
      "include_colab_link": true
    }
  },
  "nbformat": 4,
  "nbformat_minor": 0
}